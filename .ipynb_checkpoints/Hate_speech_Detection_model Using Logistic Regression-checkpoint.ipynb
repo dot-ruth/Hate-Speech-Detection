{
 "cells": [
  {
   "cell_type": "code",
   "execution_count": 4,
   "id": "87d094cf",
   "metadata": {},
   "outputs": [
    {
     "name": "stderr",
     "output_type": "stream",
     "text": [
      "[nltk_data] Downloading package punkt to\n",
      "[nltk_data]     C:\\Users\\ruth\\AppData\\Roaming\\nltk_data...\n",
      "[nltk_data]   Package punkt is already up-to-date!\n"
     ]
    }
   ],
   "source": [
    "import pandas as pd \n",
    "import numpy as np\n",
    "import re\n",
    "import seaborn as sns\n",
    "import matplotlib.pyplot as plt\n",
    "from matplotlib import style\n",
    "style.use('ggplot')\n",
    "import nltk\n",
    "nltk.download('punkt')\n",
    "from nltk.tokenize import word_tokenize\n",
    "from nltk.stem import WordNetLemmatizer\n",
    "from nltk.corpus import stopwords\n",
    "stop_words = set(stopwords.words('english'))\n",
    "from wordcloud import WordCloud\n",
    "from sklearn.feature_extraction.text import TfidfVectorizer\n",
    "from sklearn.model_selection import train_test_split\n",
    "from sklearn.linear_model import LogisticRegression\n",
    "from sklearn.metrics import accuracy_score,classification_report,confusion_matrix,ConfusionMatrixDisplay"
   ]
  },
  {
   "cell_type": "code",
   "execution_count": 25,
   "id": "e1701cef",
   "metadata": {},
   "outputs": [
    {
     "data": {
      "text/html": [
       "<div>\n",
       "<style scoped>\n",
       "    .dataframe tbody tr th:only-of-type {\n",
       "        vertical-align: middle;\n",
       "    }\n",
       "\n",
       "    .dataframe tbody tr th {\n",
       "        vertical-align: top;\n",
       "    }\n",
       "\n",
       "    .dataframe thead th {\n",
       "        text-align: right;\n",
       "    }\n",
       "</style>\n",
       "<table border=\"1\" class=\"dataframe\">\n",
       "  <thead>\n",
       "    <tr style=\"text-align: right;\">\n",
       "      <th></th>\n",
       "      <th>id</th>\n",
       "      <th>label</th>\n",
       "      <th>tweet</th>\n",
       "    </tr>\n",
       "  </thead>\n",
       "  <tbody>\n",
       "    <tr>\n",
       "      <th>0</th>\n",
       "      <td>1</td>\n",
       "      <td>0</td>\n",
       "      <td>@user when a father is dysfunctional and is s...</td>\n",
       "    </tr>\n",
       "    <tr>\n",
       "      <th>1</th>\n",
       "      <td>2</td>\n",
       "      <td>0</td>\n",
       "      <td>@user @user thanks for #lyft credit i can't us...</td>\n",
       "    </tr>\n",
       "    <tr>\n",
       "      <th>2</th>\n",
       "      <td>3</td>\n",
       "      <td>0</td>\n",
       "      <td>bihday your majesty</td>\n",
       "    </tr>\n",
       "    <tr>\n",
       "      <th>3</th>\n",
       "      <td>4</td>\n",
       "      <td>0</td>\n",
       "      <td>#model   i love u take with u all the time in ...</td>\n",
       "    </tr>\n",
       "    <tr>\n",
       "      <th>4</th>\n",
       "      <td>5</td>\n",
       "      <td>0</td>\n",
       "      <td>factsguide: society now    #motivation</td>\n",
       "    </tr>\n",
       "  </tbody>\n",
       "</table>\n",
       "</div>"
      ],
      "text/plain": [
       "   id  label                                              tweet\n",
       "0   1      0   @user when a father is dysfunctional and is s...\n",
       "1   2      0  @user @user thanks for #lyft credit i can't us...\n",
       "2   3      0                                bihday your majesty\n",
       "3   4      0  #model   i love u take with u all the time in ...\n",
       "4   5      0             factsguide: society now    #motivation"
      ]
     },
     "execution_count": 25,
     "metadata": {},
     "output_type": "execute_result"
    }
   ],
   "source": [
    "data = pd.read_csv(r\"C:\\Users\\ruth\\Documents\\software courses\\3rd year\\2nd Semester\\Fundamental Of Machine Learning\\Assignment\\Hate-Speech-Detection\\Data\\train.csv\")\n",
    "data.head()"
   ]
  },
  {
   "cell_type": "code",
   "execution_count": 34,
   "id": "f23b064a",
   "metadata": {},
   "outputs": [],
   "source": [
    "# defining a function for data processing\n",
    "def data_processing(data):\n",
    "    data = data.lower()\n",
    "    data = re.sub(r\"https\\S+|www\\S+http\\S+\", '', data)\n",
    "    data = re.sub(r'\\@w+|\\#','', data)\n",
    "    data = re.sub(r'[^\\w\\s]','',data)\n",
    "    #data_tokens = word_tokenize(data)\n",
    "    #filtered_data = [w for w in data if not w in stop_words]\n",
    "    #return \" \".join(filtered_data)\n",
    "    return data"
   ]
  },
  {
   "cell_type": "code",
   "execution_count": 35,
   "id": "27809a14",
   "metadata": {},
   "outputs": [],
   "source": [
    "data.tweet = data['tweet'].apply(data_processing)"
   ]
  },
  {
   "cell_type": "code",
   "execution_count": 36,
   "id": "e7d19e80",
   "metadata": {},
   "outputs": [],
   "source": [
    "data = data.drop_duplicates('tweet')"
   ]
  },
  {
   "cell_type": "code",
   "execution_count": 37,
   "id": "4fe8cdfd",
   "metadata": {},
   "outputs": [],
   "source": [
    "#lemmatizer = WordNetLemmatizer()\n",
    "#def lemmatizing(data):\n",
    "    #data = [lemmatizer.lemmatize(word) for word in data]\n",
    "    #return data"
   ]
  },
  {
   "cell_type": "code",
   "execution_count": 38,
   "id": "4535418f",
   "metadata": {},
   "outputs": [],
   "source": [
    "#data['tweet'] = data['tweet'].apply(lambda x: lemmatizing(x))"
   ]
  },
  {
   "cell_type": "code",
   "execution_count": 43,
   "id": "791c173e",
   "metadata": {},
   "outputs": [
    {
     "name": "stdout",
     "output_type": "stream",
     "text": [
      "  u s e r   w h e n   a   f a t h e r   i s   d y s f u n c t i o n a l   a n d   i s   s o   s e l f i s h   h e   d r a g s   h i s   k i d s   i n t o   h i s   d y s f u n c t i o n       r u n \n",
      "\n",
      "u s e r   u s e r   t h a n k s   f o r   l y f t   c r e d i t   i   c a n t   u s e   c a u s e   t h e y   d o n t   o f f e r   w h e e l c h a i r   v a n s   i n   p d x         d i s a p o i n t e d   g e t t h a n k e d \n",
      "\n",
      "    b i h d a y   y o u r   m a j e s t y \n",
      "\n",
      "m o d e l       i   l o v e   u   t a k e   w i t h   u   a l l   t h e   t i m e   i n   u r ð   ð ð ð ð ",
      " ð ð ð     \n",
      "\n",
      "  f a c t s g u i d e   s o c i e t y   n o w         m o t i v a t i o n \n",
      "\n"
     ]
    }
   ],
   "source": [
    "print(data['tweet'].iloc[0],\"\\n\")\n",
    "print(data['tweet'].iloc[1],\"\\n\")\n",
    "print(data['tweet'].iloc[2],\"\\n\")\n",
    "print(data['tweet'].iloc[3],\"\\n\")\n",
    "print(data['tweet'].iloc[4],\"\\n\")"
   ]
  },
  {
   "cell_type": "code",
   "execution_count": 44,
   "id": "7ff8b9c9",
   "metadata": {},
   "outputs": [
    {
     "data": {
      "text/html": [
       "<div>\n",
       "<style scoped>\n",
       "    .dataframe tbody tr th:only-of-type {\n",
       "        vertical-align: middle;\n",
       "    }\n",
       "\n",
       "    .dataframe tbody tr th {\n",
       "        vertical-align: top;\n",
       "    }\n",
       "\n",
       "    .dataframe thead th {\n",
       "        text-align: right;\n",
       "    }\n",
       "</style>\n",
       "<table border=\"1\" class=\"dataframe\">\n",
       "  <thead>\n",
       "    <tr style=\"text-align: right;\">\n",
       "      <th></th>\n",
       "      <th>id</th>\n",
       "      <th>label</th>\n",
       "      <th>tweet</th>\n",
       "    </tr>\n",
       "  </thead>\n",
       "  <tbody>\n",
       "    <tr>\n",
       "      <th>0</th>\n",
       "      <td>1</td>\n",
       "      <td>0</td>\n",
       "      <td>u s e r   w h e n   a   f a t h e r   i s   ...</td>\n",
       "    </tr>\n",
       "    <tr>\n",
       "      <th>1</th>\n",
       "      <td>2</td>\n",
       "      <td>0</td>\n",
       "      <td>u s e r   u s e r   t h a n k s   f o r   l y ...</td>\n",
       "    </tr>\n",
       "    <tr>\n",
       "      <th>2</th>\n",
       "      <td>3</td>\n",
       "      <td>0</td>\n",
       "      <td>b i h d a y   y o u r   m a j e s t y</td>\n",
       "    </tr>\n",
       "    <tr>\n",
       "      <th>3</th>\n",
       "      <td>4</td>\n",
       "      <td>0</td>\n",
       "      <td>m o d e l       i   l o v e   u   t a k e   w ...</td>\n",
       "    </tr>\n",
       "    <tr>\n",
       "      <th>4</th>\n",
       "      <td>5</td>\n",
       "      <td>0</td>\n",
       "      <td>f a c t s g u i d e   s o c i e t y   n o w ...</td>\n",
       "    </tr>\n",
       "  </tbody>\n",
       "</table>\n",
       "</div>"
      ],
      "text/plain": [
       "   id  label                                              tweet\n",
       "0   1      0    u s e r   w h e n   a   f a t h e r   i s   ...\n",
       "1   2      0  u s e r   u s e r   t h a n k s   f o r   l y ...\n",
       "2   3      0              b i h d a y   y o u r   m a j e s t y\n",
       "3   4      0  m o d e l       i   l o v e   u   t a k e   w ...\n",
       "4   5      0    f a c t s g u i d e   s o c i e t y   n o w ..."
      ]
     },
     "execution_count": 44,
     "metadata": {},
     "output_type": "execute_result"
    }
   ],
   "source": [
    "data.head()"
   ]
  },
  {
   "cell_type": "code",
   "execution_count": null,
   "id": "14028bb0",
   "metadata": {},
   "outputs": [],
   "source": []
  }
 ],
 "metadata": {
  "kernelspec": {
   "display_name": "Python 3 (ipykernel)",
   "language": "python",
   "name": "python3"
  },
  "language_info": {
   "codemirror_mode": {
    "name": "ipython",
    "version": 3
   },
   "file_extension": ".py",
   "mimetype": "text/x-python",
   "name": "python",
   "nbconvert_exporter": "python",
   "pygments_lexer": "ipython3",
   "version": "3.9.13"
  }
 },
 "nbformat": 4,
 "nbformat_minor": 5
}
