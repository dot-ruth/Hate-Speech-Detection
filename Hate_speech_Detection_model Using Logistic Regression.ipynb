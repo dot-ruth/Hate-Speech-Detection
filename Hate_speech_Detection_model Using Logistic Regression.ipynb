{
 "cells": [
  {
   "cell_type": "code",
   "execution_count": 1,
   "id": "72344170",
   "metadata": {},
   "outputs": [],
   "source": [
    "import pandas as pd \n",
    "import numpy as np\n",
    "import re\n",
    "import seaborn as sns\n",
    "import matplotlib.pyplot as plt\n",
    "import pickle\n",
    "import gensim \n",
    "import nltk\n",
    "from nltk.stem.wordnet import WordNetLemmatizer\n",
    "from matplotlib import style\n",
    "from sklearn.preprocessing import LabelEncoder \n",
    "from sklearn.feature_extraction.text import TfidfVectorizer,CountVectorizer\n",
    "from sklearn.model_selection import train_test_split\n",
    "from sklearn.linear_model import LogisticRegression\n",
    "from sklearn.metrics import accuracy_score,confusion_matrix,ConfusionMatrixDisplay"
   ]
  },
  {
   "cell_type": "code",
   "execution_count": 2,
   "id": "693b902f",
   "metadata": {},
   "outputs": [
    {
     "data": {
      "text/html": [
       "<div>\n",
       "<style scoped>\n",
       "    .dataframe tbody tr th:only-of-type {\n",
       "        vertical-align: middle;\n",
       "    }\n",
       "\n",
       "    .dataframe tbody tr th {\n",
       "        vertical-align: top;\n",
       "    }\n",
       "\n",
       "    .dataframe thead th {\n",
       "        text-align: right;\n",
       "    }\n",
       "</style>\n",
       "<table border=\"1\" class=\"dataframe\">\n",
       "  <thead>\n",
       "    <tr style=\"text-align: right;\">\n",
       "      <th></th>\n",
       "      <th>Unnamed: 0</th>\n",
       "      <th>count</th>\n",
       "      <th>hate_speech</th>\n",
       "      <th>offensive_language</th>\n",
       "      <th>neither</th>\n",
       "      <th>class</th>\n",
       "      <th>tweet</th>\n",
       "    </tr>\n",
       "  </thead>\n",
       "  <tbody>\n",
       "    <tr>\n",
       "      <th>0</th>\n",
       "      <td>0</td>\n",
       "      <td>3</td>\n",
       "      <td>0</td>\n",
       "      <td>0</td>\n",
       "      <td>3</td>\n",
       "      <td>2</td>\n",
       "      <td>!!! RT @mayasolovely: As a woman you shouldn't...</td>\n",
       "    </tr>\n",
       "    <tr>\n",
       "      <th>1</th>\n",
       "      <td>1</td>\n",
       "      <td>3</td>\n",
       "      <td>0</td>\n",
       "      <td>3</td>\n",
       "      <td>0</td>\n",
       "      <td>1</td>\n",
       "      <td>!!!!! RT @mleew17: boy dats cold...tyga dwn ba...</td>\n",
       "    </tr>\n",
       "    <tr>\n",
       "      <th>2</th>\n",
       "      <td>2</td>\n",
       "      <td>3</td>\n",
       "      <td>0</td>\n",
       "      <td>3</td>\n",
       "      <td>0</td>\n",
       "      <td>1</td>\n",
       "      <td>!!!!!!! RT @UrKindOfBrand Dawg!!!! RT @80sbaby...</td>\n",
       "    </tr>\n",
       "    <tr>\n",
       "      <th>3</th>\n",
       "      <td>3</td>\n",
       "      <td>3</td>\n",
       "      <td>0</td>\n",
       "      <td>2</td>\n",
       "      <td>1</td>\n",
       "      <td>1</td>\n",
       "      <td>!!!!!!!!! RT @C_G_Anderson: @viva_based she lo...</td>\n",
       "    </tr>\n",
       "    <tr>\n",
       "      <th>4</th>\n",
       "      <td>4</td>\n",
       "      <td>6</td>\n",
       "      <td>0</td>\n",
       "      <td>6</td>\n",
       "      <td>0</td>\n",
       "      <td>1</td>\n",
       "      <td>!!!!!!!!!!!!! RT @ShenikaRoberts: The shit you...</td>\n",
       "    </tr>\n",
       "  </tbody>\n",
       "</table>\n",
       "</div>"
      ],
      "text/plain": [
       "   Unnamed: 0  count  hate_speech  offensive_language  neither  class  \\\n",
       "0           0      3            0                   0        3      2   \n",
       "1           1      3            0                   3        0      1   \n",
       "2           2      3            0                   3        0      1   \n",
       "3           3      3            0                   2        1      1   \n",
       "4           4      6            0                   6        0      1   \n",
       "\n",
       "                                               tweet  \n",
       "0  !!! RT @mayasolovely: As a woman you shouldn't...  \n",
       "1  !!!!! RT @mleew17: boy dats cold...tyga dwn ba...  \n",
       "2  !!!!!!! RT @UrKindOfBrand Dawg!!!! RT @80sbaby...  \n",
       "3  !!!!!!!!! RT @C_G_Anderson: @viva_based she lo...  \n",
       "4  !!!!!!!!!!!!! RT @ShenikaRoberts: The shit you...  "
      ]
     },
     "execution_count": 2,
     "metadata": {},
     "output_type": "execute_result"
    }
   ],
   "source": [
    "data = pd.read_csv(r\"C:\\Users\\ruth\\Documents\\software courses\\3rd year\\2nd Semester\\Fundamental Of Machine Learning\\Assignment\\Hate-Speech-Detection\\Data\\twitter_data.csv\")\n",
    "data.head()"
   ]
  },
  {
   "cell_type": "code",
   "execution_count": 3,
   "id": "8775f435",
   "metadata": {},
   "outputs": [
    {
     "data": {
      "text/html": [
       "<div>\n",
       "<style scoped>\n",
       "    .dataframe tbody tr th:only-of-type {\n",
       "        vertical-align: middle;\n",
       "    }\n",
       "\n",
       "    .dataframe tbody tr th {\n",
       "        vertical-align: top;\n",
       "    }\n",
       "\n",
       "    .dataframe thead th {\n",
       "        text-align: right;\n",
       "    }\n",
       "</style>\n",
       "<table border=\"1\" class=\"dataframe\">\n",
       "  <thead>\n",
       "    <tr style=\"text-align: right;\">\n",
       "      <th></th>\n",
       "      <th>Unnamed: 0</th>\n",
       "      <th>count</th>\n",
       "      <th>hate_speech</th>\n",
       "      <th>offensive_language</th>\n",
       "      <th>neither</th>\n",
       "      <th>class</th>\n",
       "      <th>tweet</th>\n",
       "      <th>label</th>\n",
       "    </tr>\n",
       "  </thead>\n",
       "  <tbody>\n",
       "    <tr>\n",
       "      <th>0</th>\n",
       "      <td>0</td>\n",
       "      <td>3</td>\n",
       "      <td>0</td>\n",
       "      <td>0</td>\n",
       "      <td>3</td>\n",
       "      <td>2</td>\n",
       "      <td>!!! RT @mayasolovely: As a woman you shouldn't...</td>\n",
       "      <td>No Hate speech</td>\n",
       "    </tr>\n",
       "    <tr>\n",
       "      <th>1</th>\n",
       "      <td>1</td>\n",
       "      <td>3</td>\n",
       "      <td>0</td>\n",
       "      <td>3</td>\n",
       "      <td>0</td>\n",
       "      <td>1</td>\n",
       "      <td>!!!!! RT @mleew17: boy dats cold...tyga dwn ba...</td>\n",
       "      <td>Hate Speech Detected</td>\n",
       "    </tr>\n",
       "    <tr>\n",
       "      <th>2</th>\n",
       "      <td>2</td>\n",
       "      <td>3</td>\n",
       "      <td>0</td>\n",
       "      <td>3</td>\n",
       "      <td>0</td>\n",
       "      <td>1</td>\n",
       "      <td>!!!!!!! RT @UrKindOfBrand Dawg!!!! RT @80sbaby...</td>\n",
       "      <td>Hate Speech Detected</td>\n",
       "    </tr>\n",
       "    <tr>\n",
       "      <th>3</th>\n",
       "      <td>3</td>\n",
       "      <td>3</td>\n",
       "      <td>0</td>\n",
       "      <td>2</td>\n",
       "      <td>1</td>\n",
       "      <td>1</td>\n",
       "      <td>!!!!!!!!! RT @C_G_Anderson: @viva_based she lo...</td>\n",
       "      <td>Hate Speech Detected</td>\n",
       "    </tr>\n",
       "    <tr>\n",
       "      <th>4</th>\n",
       "      <td>4</td>\n",
       "      <td>6</td>\n",
       "      <td>0</td>\n",
       "      <td>6</td>\n",
       "      <td>0</td>\n",
       "      <td>1</td>\n",
       "      <td>!!!!!!!!!!!!! RT @ShenikaRoberts: The shit you...</td>\n",
       "      <td>Hate Speech Detected</td>\n",
       "    </tr>\n",
       "  </tbody>\n",
       "</table>\n",
       "</div>"
      ],
      "text/plain": [
       "   Unnamed: 0  count  hate_speech  offensive_language  neither  class  \\\n",
       "0           0      3            0                   0        3      2   \n",
       "1           1      3            0                   3        0      1   \n",
       "2           2      3            0                   3        0      1   \n",
       "3           3      3            0                   2        1      1   \n",
       "4           4      6            0                   6        0      1   \n",
       "\n",
       "                                               tweet                 label  \n",
       "0  !!! RT @mayasolovely: As a woman you shouldn't...        No Hate speech  \n",
       "1  !!!!! RT @mleew17: boy dats cold...tyga dwn ba...  Hate Speech Detected  \n",
       "2  !!!!!!! RT @UrKindOfBrand Dawg!!!! RT @80sbaby...  Hate Speech Detected  \n",
       "3  !!!!!!!!! RT @C_G_Anderson: @viva_based she lo...  Hate Speech Detected  \n",
       "4  !!!!!!!!!!!!! RT @ShenikaRoberts: The shit you...  Hate Speech Detected  "
      ]
     },
     "execution_count": 3,
     "metadata": {},
     "output_type": "execute_result"
    }
   ],
   "source": [
    "data['label'] = data['class'].map({0:\"Hate Speech Detected\",1:\"Hate Speech Detected\",2:\"No Hate speech\"})\n",
    "data.head()"
   ]
  },
  {
   "cell_type": "code",
   "execution_count": 4,
   "id": "87fdf278",
   "metadata": {},
   "outputs": [],
   "source": [
    "# defining a function for data processing\n",
    "def data_processing(data):\n",
    "    data = data.lower()\n",
    "    data = re.sub(r\"https\\S+|www\\S+http\\S+\", '', data)\n",
    "    data = re.sub(r'\\@w+|\\#','', data)\n",
    "    data = re.sub(r'[^\\w\\s]','',data)\n",
    "    return data "
   ]
  },
  {
   "cell_type": "code",
   "execution_count": 5,
   "id": "58d80f6a",
   "metadata": {},
   "outputs": [],
   "source": [
    "data.tweet = data['tweet'].apply(data_processing)"
   ]
  },
  {
   "cell_type": "code",
   "execution_count": 6,
   "id": "1b2c31df",
   "metadata": {},
   "outputs": [],
   "source": [
    "data = data.drop_duplicates('tweet')"
   ]
  },
  {
   "cell_type": "code",
   "execution_count": 7,
   "id": "84899f4a",
   "metadata": {},
   "outputs": [
    {
     "data": {
      "text/plain": [
       "0     'mayasolovely', 'woman', 'shouldnt', 'complain...\n",
       "1     'mleew', 'boy', 'dats', 'coldtyga', 'dwn', 'ba...\n",
       "2     'urkindofbrand', 'dawg', 'sbaby', 'life', 'fuc...\n",
       "3     'c_g_anderson', 'viva_based', 'look', 'like', ...\n",
       "4     'shenikaroberts', 'shit', 'hear', 'true', 'fak...\n",
       "5     't_madison_x', 'shit', 'blow', 'meclaim', 'fai...\n",
       "6           'sit', 'hate', 'bitch', 'get', 'shit', 'go'\n",
       "7     'selfiequeenbri', 'cause', 'tire', 'big', 'bit...\n",
       "8                        'amp', 'bitch', 'amp', 'thats'\n",
       "9     'rhythmixx_', 'hobbies', 'include', 'fight', '...\n",
       "10    'keeks', 'bitch', 'curve', 'lol', 'walk', 'con...\n",
       "11             'murda', 'gang', 'bitch', 'gang', 'land'\n",
       "12                      'hoe', 'smoke', 'losers', 'yea'\n",
       "13                      'bad', 'bitch', 'thing', 'like'\n",
       "14                                              'bitch'\n",
       "15                             'bitch', 'nigga', 'miss'\n",
       "16                                       'bitch', 'plz'\n",
       "17                                      'bitch', 'love'\n",
       "18                           'bitch', 'cut', 'everyday'\n",
       "19             'black', 'bottle', 'amp', 'bad', 'bitch'\n",
       "Name: tweet, dtype: object"
      ]
     },
     "execution_count": 7,
     "metadata": {},
     "output_type": "execute_result"
    }
   ],
   "source": [
    "def lemmatize(token):\n",
    "    return WordNetLemmatizer().lemmatize(token, pos='v')\n",
    "\n",
    "def tokenize(tweet):\n",
    "    result = []\n",
    "    for token in gensim.utils.simple_preprocess(tweet):\n",
    "        if token not in gensim.parsing.preprocessing.STOPWORDS \\\n",
    "                and len(token) > 2: \n",
    "            result.append(lemmatize(token))\n",
    "    return result\n",
    "\n",
    "def tokenize_and_lemmatize(df, col):\n",
    "    df[col] = df[col].apply(lambda x: tokenize(x))\n",
    "    df.tweet = df.tweet.apply(lambda x: str(x)[1:-1])\n",
    "\n",
    "tokenize_and_lemmatize(data, 'tweet')\n",
    "data.tweet.head(20)"
   ]
  },
  {
   "cell_type": "code",
   "execution_count": 8,
   "id": "4e27d5fd",
   "metadata": {},
   "outputs": [
    {
     "name": "stdout",
     "output_type": "stream",
     "text": [
      "'mayasolovely', 'woman', 'shouldnt', 'complain', 'clean', 'house', 'amp', 'man', 'trash' \n",
      "\n",
      "'mleew', 'boy', 'dats', 'coldtyga', 'dwn', 'bad', 'cuffin', 'dat', 'hoe', 'place' \n",
      "\n",
      "'urkindofbrand', 'dawg', 'sbaby', 'life', 'fuck', 'bitch', 'start', 'confuse', 'shit' \n",
      "\n",
      "'c_g_anderson', 'viva_based', 'look', 'like', 'tranny' \n",
      "\n",
      "'shenikaroberts', 'shit', 'hear', 'true', 'faker', 'bitch', 'tell' \n",
      "\n"
     ]
    }
   ],
   "source": [
    "print(data['tweet'].iloc[0],\"\\n\")\n",
    "print(data['tweet'].iloc[1],\"\\n\")\n",
    "print(data['tweet'].iloc[2],\"\\n\")\n",
    "print(data['tweet'].iloc[3],\"\\n\")\n",
    "print(data['tweet'].iloc[4],\"\\n\")"
   ]
  },
  {
   "cell_type": "code",
   "execution_count": 9,
   "id": "fa074096",
   "metadata": {},
   "outputs": [
    {
     "data": {
      "text/html": [
       "<div>\n",
       "<style scoped>\n",
       "    .dataframe tbody tr th:only-of-type {\n",
       "        vertical-align: middle;\n",
       "    }\n",
       "\n",
       "    .dataframe tbody tr th {\n",
       "        vertical-align: top;\n",
       "    }\n",
       "\n",
       "    .dataframe thead th {\n",
       "        text-align: right;\n",
       "    }\n",
       "</style>\n",
       "<table border=\"1\" class=\"dataframe\">\n",
       "  <thead>\n",
       "    <tr style=\"text-align: right;\">\n",
       "      <th></th>\n",
       "      <th>tweet</th>\n",
       "      <th>label</th>\n",
       "    </tr>\n",
       "  </thead>\n",
       "  <tbody>\n",
       "    <tr>\n",
       "      <th>0</th>\n",
       "      <td>'mayasolovely', 'woman', 'shouldnt', 'complain...</td>\n",
       "      <td>No Hate speech</td>\n",
       "    </tr>\n",
       "    <tr>\n",
       "      <th>1</th>\n",
       "      <td>'mleew', 'boy', 'dats', 'coldtyga', 'dwn', 'ba...</td>\n",
       "      <td>Hate Speech Detected</td>\n",
       "    </tr>\n",
       "    <tr>\n",
       "      <th>2</th>\n",
       "      <td>'urkindofbrand', 'dawg', 'sbaby', 'life', 'fuc...</td>\n",
       "      <td>Hate Speech Detected</td>\n",
       "    </tr>\n",
       "    <tr>\n",
       "      <th>3</th>\n",
       "      <td>'c_g_anderson', 'viva_based', 'look', 'like', ...</td>\n",
       "      <td>Hate Speech Detected</td>\n",
       "    </tr>\n",
       "    <tr>\n",
       "      <th>4</th>\n",
       "      <td>'shenikaroberts', 'shit', 'hear', 'true', 'fak...</td>\n",
       "      <td>Hate Speech Detected</td>\n",
       "    </tr>\n",
       "  </tbody>\n",
       "</table>\n",
       "</div>"
      ],
      "text/plain": [
       "                                               tweet                 label\n",
       "0  'mayasolovely', 'woman', 'shouldnt', 'complain...        No Hate speech\n",
       "1  'mleew', 'boy', 'dats', 'coldtyga', 'dwn', 'ba...  Hate Speech Detected\n",
       "2  'urkindofbrand', 'dawg', 'sbaby', 'life', 'fuc...  Hate Speech Detected\n",
       "3  'c_g_anderson', 'viva_based', 'look', 'like', ...  Hate Speech Detected\n",
       "4  'shenikaroberts', 'shit', 'hear', 'true', 'fak...  Hate Speech Detected"
      ]
     },
     "execution_count": 9,
     "metadata": {},
     "output_type": "execute_result"
    }
   ],
   "source": [
    "data[['tweet','label']].head()"
   ]
  },
  {
   "cell_type": "code",
   "execution_count": 10,
   "id": "8343b9ff",
   "metadata": {},
   "outputs": [
    {
     "data": {
      "text/plain": [
       "Hate Speech Detected    20582\n",
       "No Hate speech           4161\n",
       "Name: label, dtype: int64"
      ]
     },
     "execution_count": 10,
     "metadata": {},
     "output_type": "execute_result"
    }
   ],
   "source": [
    "data['label'].value_counts()"
   ]
  },
  {
   "cell_type": "code",
   "execution_count": 11,
   "id": "083bdc8b",
   "metadata": {},
   "outputs": [
    {
     "data": {
      "text/plain": [
       "<AxesSubplot: xlabel='label', ylabel='count'>"
      ]
     },
     "execution_count": 11,
     "metadata": {},
     "output_type": "execute_result"
    },
    {
     "data": {
      "image/png": "[encoded data removed]",
      "text/plain": [
       "<Figure size 500x500 with 1 Axes>"
      ]
     },
     "metadata": {},
     "output_type": "display_data"
    }
   ],
   "source": [
    "style.use('ggplot')\n",
    "fig = plt.figure(figsize=(5,5))\n",
    "sns.countplot(x='label', data = data)"
   ]
  },
  {
   "cell_type": "code",
   "execution_count": 12,
   "id": "dc9100fb",
   "metadata": {},
   "outputs": [],
   "source": [
    "#model Using CountVectorizer\n",
    "cv = CountVectorizer()\n",
    "X=cv.fit_transform(data['tweet'])\n",
    "Y=LabelEncoder().fit_transform(data['label']) "
   ]
  },
  {
   "cell_type": "code",
   "execution_count": 13,
   "id": "a9456c86",
   "metadata": {},
   "outputs": [],
   "source": [
    "X_train,x_test,Y_train,y_test = train_test_split(X,Y,test_size=0.2)"
   ]
  },
  {
   "cell_type": "code",
   "execution_count": 14,
   "id": "cf66c031",
   "metadata": {},
   "outputs": [
    {
     "name": "stdout",
     "output_type": "stream",
     "text": [
      "Model Accuracy: 95.57%\n"
     ]
    }
   ],
   "source": [
    "model = LogisticRegression().fit(X_train,Y_train)\n",
    "pred = model.predict(x_test)\n",
    "model_accuracy = accuracy_score(pred,y_test)\n",
    "print(\"Model Accuracy: {:.2f}%\".format(model_accuracy*100))"
   ]
  },
  {
   "cell_type": "code",
   "execution_count": 15,
   "id": "12b3d28e",
   "metadata": {},
   "outputs": [
    {
     "data": {
      "text/plain": [
       "<sklearn.metrics._plot.confusion_matrix.ConfusionMatrixDisplay at 0x243c29617c0>"
      ]
     },
     "execution_count": 15,
     "metadata": {},
     "output_type": "execute_result"
    },
    {
     "data": {
      "image/png": "[encoded data removed]",
      "text/plain": [
       "<Figure size 640x480 with 2 Axes>"
      ]
     },
     "metadata": {},
     "output_type": "display_data"
    }
   ],
   "source": [
    "style.use('classic')\n",
    "cm = confusion_matrix(y_test, pred, labels=model.classes_)\n",
    "disp = ConfusionMatrixDisplay(confusion_matrix=cm,display_labels=model.classes_)\n",
    "disp.plot()"
   ]
  },
  {
   "cell_type": "code",
   "execution_count": 16,
   "id": "e53d153e",
   "metadata": {},
   "outputs": [],
   "source": [
    "# model using tfidVectorizer\n",
    "tfid = TfidfVectorizer()\n",
    "X_t=tfid.fit_transform(data['tweet'])\n",
    "Y_t=LabelEncoder().fit_transform(data['label']) "
   ]
  },
  {
   "cell_type": "code",
   "execution_count": 17,
   "id": "a18fd9ad",
   "metadata": {},
   "outputs": [],
   "source": [
    "X_train_t,x_test_t,Y_train_t,y_test_t = train_test_split(X_t,Y_t,test_size=0.2)"
   ]
  },
  {
   "cell_type": "code",
   "execution_count": 18,
   "id": "f5442262",
   "metadata": {},
   "outputs": [
    {
     "name": "stdout",
     "output_type": "stream",
     "text": [
      "Model Accuracy: 93.53%\n"
     ]
    }
   ],
   "source": [
    "model_t = LogisticRegression().fit(X_train_t,Y_train_t)\n",
    "pred_t = model_t.predict(x_test_t)\n",
    "model_accuracy = accuracy_score(pred_t,y_test_t)\n",
    "print(\"Model Accuracy: {:.2f}%\".format(model_accuracy*100))"
   ]
  },
  {
   "cell_type": "code",
   "execution_count": 19,
   "id": "cedb3b8a",
   "metadata": {},
   "outputs": [
    {
     "data": {
      "text/plain": [
       "<sklearn.metrics._plot.confusion_matrix.ConfusionMatrixDisplay at 0x243c7aa5790>"
      ]
     },
     "execution_count": 19,
     "metadata": {},
     "output_type": "execute_result"
    },
    {
     "data": {
      "image/png": "[encoded data removed]",
      "text/plain": [
       "<Figure size 640x480 with 2 Axes>"
      ]
     },
     "metadata": {},
     "output_type": "display_data"
    }
   ],
   "source": [
    "style.use('classic')\n",
    "cm_t = confusion_matrix(y_test_t, pred_t, labels=model_t.classes_)\n",
    "disp = ConfusionMatrixDisplay(confusion_matrix=cm_t,display_labels=model_t.classes_)\n",
    "disp.plot()"
   ]
  },
  {
   "cell_type": "code",
   "execution_count": 20,
   "id": "215c2429",
   "metadata": {},
   "outputs": [],
   "source": [
    "pickle.dump(model,open('logistic Regression model.pkl','wb'))"
   ]
  },
  {
   "cell_type": "code",
   "execution_count": 21,
   "id": "3051c21a",
   "metadata": {},
   "outputs": [],
   "source": [
    "pickle.dump(cv, open('cv.pickle', 'wb'))"
   ]
  },
  {
   "cell_type": "code",
   "execution_count": 22,
   "id": "5ba0c1a1",
   "metadata": {},
   "outputs": [],
   "source": [
    "pickle.dump(tfid, open('tfid.pickle', 'wb'))"
   ]
  }
 ],
 "metadata": {
  "kernelspec": {
   "display_name": "Python 3 (ipykernel)",
   "language": "python",
   "name": "python3"
  },
  "language_info": {
   "codemirror_mode": {
    "name": "ipython",
    "version": 3
   },
   "file_extension": ".py",
   "mimetype": "text/x-python",
   "name": "python",
   "nbconvert_exporter": "python",
   "pygments_lexer": "ipython3",
   "version": "3.9.13"
  }
 },
 "nbformat": 4,
 "nbformat_minor": 5
}
